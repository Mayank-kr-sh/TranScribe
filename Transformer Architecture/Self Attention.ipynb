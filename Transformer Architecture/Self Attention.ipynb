{
 "cells": [
  {
   "cell_type": "markdown",
   "id": "44e98d7d",
   "metadata": {},
   "source": [
    "### Generate Random Data"
   ]
  },
  {
   "cell_type": "code",
   "execution_count": 4,
   "id": "7a0154cc",
   "metadata": {},
   "outputs": [],
   "source": [
    "import numpy as np\n",
    "import math\n",
    "\n",
    "L, d_k, d_v = 4, 8, 8\n",
    "q = np.random.randn(L, d_k)\n",
    "k = np.random.randn(L, d_k)\n",
    "v = np.random.randn(L, d_v)"
   ]
  },
  {
   "cell_type": "code",
   "execution_count": 5,
   "id": "1c7d67fe",
   "metadata": {},
   "outputs": [
    {
     "name": "stdout",
     "output_type": "stream",
     "text": [
      "Q\n",
      " [[ 0.64203404 -1.54812562  0.59368779 -0.18706587 -0.21071046 -1.6601714\n",
      "  -1.56503243 -0.60125935]\n",
      " [ 0.02355747  1.77077948 -2.12561828  0.99137987 -1.5266239  -0.54205352\n",
      "  -2.39581061 -0.04190705]\n",
      " [-0.73519594 -0.75980014  1.74760179  0.40208626  2.3862207  -0.81339361\n",
      "   0.37290214  0.20181364]\n",
      " [ 0.79689592 -0.49674382  0.46737059 -0.14632245  1.24785188 -0.49674868\n",
      "  -0.89833007 -0.15773139]]\n",
      "K\n",
      " [[-0.34182438 -0.64295477  0.13515098 -0.79509809  0.28467005 -0.01110096\n",
      "  -0.26198818 -0.24187839]\n",
      " [-1.45410829 -1.59981007  0.80692506  0.41843943 -0.6547833   1.2347186\n",
      "  -0.01487417 -2.10325616]\n",
      " [ 0.22712404  0.54877967 -2.7054669   0.12288883 -1.45323157  0.57948372\n",
      "  -0.45944094 -0.09614356]\n",
      " [-0.60174385  0.2260894  -0.14313456  0.30639643 -0.49682902  1.991541\n",
      "  -0.98108253 -0.19479913]]\n",
      "V\n",
      " [[ 1.7734077  -1.00084503 -0.84925085 -1.93413573 -0.39975342 -0.14659278\n",
      "  -2.99955169 -0.1284301 ]\n",
      " [-0.24656371 -1.04892397 -1.17965906 -0.2572015  -1.75540221  0.39590212\n",
      "  -1.627402    0.27562632]\n",
      " [ 0.05729441  0.81449688 -0.05255186  1.53670616 -0.68506827 -0.49614487\n",
      "   1.43153764  0.90932019]\n",
      " [ 0.03684672  0.93446731 -1.97944837  0.74493898  0.37002101  0.55127741\n",
      "  -0.68155318  0.98664744]]\n"
     ]
    }
   ],
   "source": [
    "print(\"Q\\n\", q)\n",
    "print(\"K\\n\", k)\n",
    "print(\"V\\n\", v)"
   ]
  },
  {
   "cell_type": "code",
   "execution_count": 6,
   "id": "6e852c6f",
   "metadata": {},
   "outputs": [
    {
     "data": {
      "text/plain": [
       "array([[ 1.51878324,  1.31991193, -2.2119335 , -2.42770995],\n",
       "       [-2.01286359, -3.71344696,  9.85892708,  3.03178421],\n",
       "       [ 1.19812182,  0.86624077, -9.39241964, -3.06693885],\n",
       "       [ 0.86073578, -1.13347719, -3.04742679, -1.40076779]])"
      ]
     },
     "execution_count": 6,
     "metadata": {},
     "output_type": "execute_result"
    }
   ],
   "source": [
    "np.matmul(q, k.T)"
   ]
  },
  {
   "cell_type": "code",
   "execution_count": 7,
   "id": "df71da54",
   "metadata": {},
   "outputs": [
    {
     "data": {
      "text/plain": [
       "(1.2366095695802422, 0.8491487265169246, 15.38790378358706)"
      ]
     },
     "execution_count": 7,
     "metadata": {},
     "output_type": "execute_result"
    }
   ],
   "source": [
    "# Why we need sqrt(d_k) in denominator\n",
    "q.var(), k.var(), np.matmul(q, k.T).var()"
   ]
  },
  {
   "cell_type": "code",
   "execution_count": 8,
   "id": "2e3a397e",
   "metadata": {},
   "outputs": [
    {
     "data": {
      "text/plain": [
       "(1.2366095695802422, 0.8491487265169246, 1.9234879729483823)"
      ]
     },
     "execution_count": 8,
     "metadata": {},
     "output_type": "execute_result"
    }
   ],
   "source": [
    "scaled = np.matmul(q, k.T) / math.sqrt(d_k)\n",
    "q.var(), k.var(), scaled.var()"
   ]
  },
  {
   "cell_type": "code",
   "execution_count": 9,
   "id": "18b737fc",
   "metadata": {},
   "outputs": [
    {
     "data": {
      "text/plain": [
       "array([[ 0.53697097,  0.46665934, -0.78203659, -0.85832508],\n",
       "       [-0.71165475, -1.31290176,  3.4856571 ,  1.07189759],\n",
       "       [ 0.42360003,  0.30626236, -3.32072181, -1.08432663],\n",
       "       [ 0.30431605, -0.4007447 , -1.07742808, -0.4952462 ]])"
      ]
     },
     "execution_count": 9,
     "metadata": {},
     "output_type": "execute_result"
    }
   ],
   "source": [
    "scaled"
   ]
  },
  {
   "cell_type": "code",
   "execution_count": 10,
   "id": "41f33c8b",
   "metadata": {},
   "outputs": [
    {
     "data": {
      "text/plain": [
       "array([[1., 0., 0., 0.],\n",
       "       [1., 1., 0., 0.],\n",
       "       [1., 1., 1., 0.],\n",
       "       [1., 1., 1., 1.]])"
      ]
     },
     "execution_count": 10,
     "metadata": {},
     "output_type": "execute_result"
    }
   ],
   "source": [
    "mask = np.tril(np.ones( (L, L) ))\n",
    "mask"
   ]
  },
  {
   "cell_type": "code",
   "execution_count": 11,
   "id": "3a43da50",
   "metadata": {},
   "outputs": [],
   "source": [
    "mask[mask == 0] = -np.infty\n",
    "mask[mask == 1] = 0"
   ]
  },
  {
   "cell_type": "code",
   "execution_count": 12,
   "id": "47558b6b",
   "metadata": {},
   "outputs": [
    {
     "data": {
      "text/plain": [
       "array([[  0., -inf, -inf, -inf],\n",
       "       [  0.,   0., -inf, -inf],\n",
       "       [  0.,   0.,   0., -inf],\n",
       "       [  0.,   0.,   0.,   0.]])"
      ]
     },
     "execution_count": 12,
     "metadata": {},
     "output_type": "execute_result"
    }
   ],
   "source": [
    "mask"
   ]
  },
  {
   "cell_type": "code",
   "execution_count": 13,
   "id": "90d8ead0",
   "metadata": {},
   "outputs": [
    {
     "data": {
      "text/plain": [
       "array([[ 0.53697097,        -inf,        -inf,        -inf],\n",
       "       [-0.71165475, -1.31290176,        -inf,        -inf],\n",
       "       [ 0.42360003,  0.30626236, -3.32072181,        -inf],\n",
       "       [ 0.30431605, -0.4007447 , -1.07742808, -0.4952462 ]])"
      ]
     },
     "execution_count": 13,
     "metadata": {},
     "output_type": "execute_result"
    }
   ],
   "source": [
    "scaled + mask"
   ]
  },
  {
   "cell_type": "code",
   "execution_count": 14,
   "id": "c4b4c09f",
   "metadata": {},
   "outputs": [],
   "source": [
    "def softmax(x):\n",
    "    return (np.exp(x).T / np.sum(np.exp(x), axis=-1)).T"
   ]
  },
  {
   "cell_type": "code",
   "execution_count": 15,
   "id": "4ae3cc6a",
   "metadata": {},
   "outputs": [],
   "source": [
    "attention = softmax(scaled + mask)"
   ]
  },
  {
   "cell_type": "code",
   "execution_count": 16,
   "id": "8d57acd6",
   "metadata": {},
   "outputs": [
    {
     "data": {
      "text/plain": [
       "array([[1.        , 0.        , 0.        , 0.        ],\n",
       "       [0.64594155, 0.35405845, 0.        , 0.        ],\n",
       "       [0.5227565 , 0.46487944, 0.01236406, 0.        ],\n",
       "       [0.45563392, 0.22511895, 0.11442797, 0.20481916]])"
      ]
     },
     "execution_count": 16,
     "metadata": {},
     "output_type": "execute_result"
    }
   ],
   "source": [
    "attention\n",
    "     "
   ]
  },
  {
   "cell_type": "code",
   "execution_count": 17,
   "id": "8d60bdf6",
   "metadata": {},
   "outputs": [
    {
     "data": {
      "text/plain": [
       "array([[ 1.7734077 , -1.00084503, -0.84925085, -1.93413573, -0.39975342,\n",
       "        -0.14659278, -2.99955169, -0.1284301 ],\n",
       "       [ 1.05821976, -1.01786779, -0.96623466, -1.340403  , -0.87973233,\n",
       "         0.04548212, -2.5137305 ,  0.01462948],\n",
       "       [ 0.81314639, -1.00075094, -0.99300039, -1.11164978, -1.03349432,\n",
       "         0.10128006, -2.30688125,  0.07223823],\n",
       "       [ 0.76662154, -0.40755358, -1.06395345, -0.61073884, -0.5799191 ,\n",
       "         0.07847175, -1.70884373,  0.30966756]])"
      ]
     },
     "execution_count": 17,
     "metadata": {},
     "output_type": "execute_result"
    }
   ],
   "source": [
    "new_v = np.matmul(attention, v)\n",
    "new_v\n",
    "     "
   ]
  },
  {
   "cell_type": "code",
   "execution_count": 18,
   "id": "6d2a0323",
   "metadata": {},
   "outputs": [
    {
     "data": {
      "text/plain": [
       "array([[ 1.7734077 , -1.00084503, -0.84925085, -1.93413573, -0.39975342,\n",
       "        -0.14659278, -2.99955169, -0.1284301 ],\n",
       "       [-0.24656371, -1.04892397, -1.17965906, -0.2572015 , -1.75540221,\n",
       "         0.39590212, -1.627402  ,  0.27562632],\n",
       "       [ 0.05729441,  0.81449688, -0.05255186,  1.53670616, -0.68506827,\n",
       "        -0.49614487,  1.43153764,  0.90932019],\n",
       "       [ 0.03684672,  0.93446731, -1.97944837,  0.74493898,  0.37002101,\n",
       "         0.55127741, -0.68155318,  0.98664744]])"
      ]
     },
     "execution_count": 18,
     "metadata": {},
     "output_type": "execute_result"
    }
   ],
   "source": [
    "v"
   ]
  },
  {
   "cell_type": "code",
   "execution_count": 19,
   "id": "f519c245",
   "metadata": {},
   "outputs": [],
   "source": [
    "def softmax(x):\n",
    "    return (np.exp(x).T / np.sum(np.exp(x), axis=-1)).T\n",
    "\n",
    "def scaled_dot_product_attention(q, k, v, mask=None):\n",
    "    d_k = q.shape[-1]\n",
    "    scaled = np.matmul(q, k.T) / math.sqrt(d_k)\n",
    "    if mask is not None:\n",
    "        scaled = scaled + mask\n",
    "    attention = softmax(scaled)\n",
    "    out = np.matmul(attention, v)\n",
    "    return out, attention"
   ]
  },
  {
   "cell_type": "code",
   "execution_count": 20,
   "id": "92cb8cb9",
   "metadata": {},
   "outputs": [
    {
     "name": "stdout",
     "output_type": "stream",
     "text": [
      "Q\n",
      " [[ 0.64203404 -1.54812562  0.59368779 -0.18706587 -0.21071046 -1.6601714\n",
      "  -1.56503243 -0.60125935]\n",
      " [ 0.02355747  1.77077948 -2.12561828  0.99137987 -1.5266239  -0.54205352\n",
      "  -2.39581061 -0.04190705]\n",
      " [-0.73519594 -0.75980014  1.74760179  0.40208626  2.3862207  -0.81339361\n",
      "   0.37290214  0.20181364]\n",
      " [ 0.79689592 -0.49674382  0.46737059 -0.14632245  1.24785188 -0.49674868\n",
      "  -0.89833007 -0.15773139]]\n",
      "K\n",
      " [[-0.34182438 -0.64295477  0.13515098 -0.79509809  0.28467005 -0.01110096\n",
      "  -0.26198818 -0.24187839]\n",
      " [-1.45410829 -1.59981007  0.80692506  0.41843943 -0.6547833   1.2347186\n",
      "  -0.01487417 -2.10325616]\n",
      " [ 0.22712404  0.54877967 -2.7054669   0.12288883 -1.45323157  0.57948372\n",
      "  -0.45944094 -0.09614356]\n",
      " [-0.60174385  0.2260894  -0.14313456  0.30639643 -0.49682902  1.991541\n",
      "  -0.98108253 -0.19479913]]\n",
      "V\n",
      " [[ 1.7734077  -1.00084503 -0.84925085 -1.93413573 -0.39975342 -0.14659278\n",
      "  -2.99955169 -0.1284301 ]\n",
      " [-0.24656371 -1.04892397 -1.17965906 -0.2572015  -1.75540221  0.39590212\n",
      "  -1.627402    0.27562632]\n",
      " [ 0.05729441  0.81449688 -0.05255186  1.53670616 -0.68506827 -0.49614487\n",
      "   1.43153764  0.90932019]\n",
      " [ 0.03684672  0.93446731 -1.97944837  0.74493898  0.37002101  0.55127741\n",
      "  -0.68155318  0.98664744]]\n",
      "New V\n",
      " [[ 1.7734077  -1.00084503 -0.84925085 -1.93413573 -0.39975342 -0.14659278\n",
      "  -2.99955169 -0.1284301 ]\n",
      " [ 1.05821976 -1.01786779 -0.96623466 -1.340403   -0.87973233  0.04548212\n",
      "  -2.5137305   0.01462948]\n",
      " [ 0.81314639 -1.00075094 -0.99300039 -1.11164978 -1.03349432  0.10128006\n",
      "  -2.30688125  0.07223823]\n",
      " [ 0.76662154 -0.40755358 -1.06395345 -0.61073884 -0.5799191   0.07847175\n",
      "  -1.70884373  0.30966756]]\n",
      "Attention\n",
      " [[1.         0.         0.         0.        ]\n",
      " [0.64594155 0.35405845 0.         0.        ]\n",
      " [0.5227565  0.46487944 0.01236406 0.        ]\n",
      " [0.45563392 0.22511895 0.11442797 0.20481916]]\n"
     ]
    }
   ],
   "source": [
    "values, attention = scaled_dot_product_attention(q, k, v, mask=mask)\n",
    "print(\"Q\\n\", q)\n",
    "print(\"K\\n\", k)\n",
    "print(\"V\\n\", v)\n",
    "print(\"New V\\n\", values)\n",
    "print(\"Attention\\n\", attention)"
   ]
  },
  {
   "cell_type": "code",
   "execution_count": 21,
   "id": "136692c9",
   "metadata": {},
   "outputs": [
    {
     "data": {
      "image/png": "[encoded data removed]",
      "text/plain": [
       "<Figure size 800x600 with 2 Axes>"
      ]
     },
     "metadata": {},
     "output_type": "display_data"
    }
   ],
   "source": [
    "import matplotlib.pyplot as plt\n",
    "q = np.random.rand(5, 3)  # Query\n",
    "k = np.random.rand(5, 3)  # Key\n",
    "v = np.random.rand(5, 4)  # Value\n",
    "\n",
    "# Compute attention scores\n",
    "output, attention_scores = scaled_dot_product_attention(q, k, v)\n",
    "\n",
    "# Plotting\n",
    "plt.figure(figsize=(8, 6))\n",
    "plt.imshow(attention_scores, cmap='viridis', aspect='auto')\n",
    "plt.title('Scaled Dot-Product Attention Scores')\n",
    "plt.xlabel('Query Positions')\n",
    "plt.ylabel('Key Positions')\n",
    "plt.colorbar()\n",
    "plt.show()"
   ]
  },
  {
   "cell_type": "code",
   "execution_count": null,
   "id": "3b6455ff",
   "metadata": {},
   "outputs": [],
   "source": []
  },
  {
   "cell_type": "code",
   "execution_count": null,
   "id": "826a1ced",
   "metadata": {},
   "outputs": [],
   "source": []
  }
 ],
 "metadata": {
  "kernelspec": {
   "display_name": "Python 3 (ipykernel)",
   "language": "python",
   "name": "python3"
  },
  "language_info": {
   "codemirror_mode": {
    "name": "ipython",
    "version": 3
   },
   "file_extension": ".py",
   "mimetype": "text/x-python",
   "name": "python",
   "nbconvert_exporter": "python",
   "pygments_lexer": "ipython3",
   "version": "3.11.3"
  }
 },
 "nbformat": 4,
 "nbformat_minor": 5
}
