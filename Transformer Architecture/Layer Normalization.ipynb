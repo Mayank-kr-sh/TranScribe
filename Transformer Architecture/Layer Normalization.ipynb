{
 "cells": [
  {
   "cell_type": "code",
   "execution_count": 20,
   "id": "49d3b8ad",
   "metadata": {},
   "outputs": [],
   "source": [
    "import torch\n",
    "from torch import nn\n",
    "import matplotlib.pyplot as plt\n"
   ]
  },
  {
   "cell_type": "code",
   "execution_count": 2,
   "id": "a3e3a90f",
   "metadata": {},
   "outputs": [
    {
     "data": {
      "text/plain": [
       "torch.Size([2, 1, 3])"
      ]
     },
     "execution_count": 2,
     "metadata": {},
     "output_type": "execute_result"
    }
   ],
   "source": [
    "inputs = torch.Tensor([[[0.2, 0.1, 0.3], [0.5, 0.1, 0.1]]])\n",
    "B, S, E = inputs.size()\n",
    "inputs = inputs.reshape(S, B, E)\n",
    "inputs.size()"
   ]
  },
  {
   "cell_type": "code",
   "execution_count": 3,
   "id": "a4107ba0",
   "metadata": {},
   "outputs": [],
   "source": [
    "parameter_shape = inputs.size()[-2:]\n",
    "gamma = nn.Parameter(torch.ones(parameter_shape))\n",
    "beta =  nn.Parameter(torch.zeros(parameter_shape))"
   ]
  },
  {
   "cell_type": "code",
   "execution_count": 4,
   "id": "f94a0437",
   "metadata": {},
   "outputs": [
    {
     "data": {
      "text/plain": [
       "(torch.Size([1, 3]), torch.Size([1, 3]))"
      ]
     },
     "execution_count": 4,
     "metadata": {},
     "output_type": "execute_result"
    }
   ],
   "source": [
    "gamma.size(), beta.size()"
   ]
  },
  {
   "cell_type": "code",
   "execution_count": 5,
   "id": "9631930e",
   "metadata": {},
   "outputs": [],
   "source": [
    "dims = [-(i + 1) for i in range(len(parameter_shape))]"
   ]
  },
  {
   "cell_type": "code",
   "execution_count": 6,
   "id": "41bab923",
   "metadata": {},
   "outputs": [
    {
     "data": {
      "text/plain": [
       "[-1, -2]"
      ]
     },
     "execution_count": 6,
     "metadata": {},
     "output_type": "execute_result"
    }
   ],
   "source": [
    "dims"
   ]
  },
  {
   "cell_type": "code",
   "execution_count": 7,
   "id": "d4942394",
   "metadata": {},
   "outputs": [
    {
     "data": {
      "text/plain": [
       "torch.Size([2, 1, 1])"
      ]
     },
     "execution_count": 7,
     "metadata": {},
     "output_type": "execute_result"
    }
   ],
   "source": [
    "mean = inputs.mean(dim=dims, keepdim=True)\n",
    "mean.size()"
   ]
  },
  {
   "cell_type": "code",
   "execution_count": 8,
   "id": "8b05a9d9",
   "metadata": {},
   "outputs": [
    {
     "data": {
      "text/plain": [
       "tensor([[[0.2000]],\n",
       "\n",
       "        [[0.2333]]])"
      ]
     },
     "execution_count": 8,
     "metadata": {},
     "output_type": "execute_result"
    }
   ],
   "source": [
    "mean"
   ]
  },
  {
   "cell_type": "code",
   "execution_count": 9,
   "id": "7eeb9afe",
   "metadata": {},
   "outputs": [
    {
     "data": {
      "text/plain": [
       "tensor([[[0.0817]],\n",
       "\n",
       "        [[0.1886]]])"
      ]
     },
     "execution_count": 9,
     "metadata": {},
     "output_type": "execute_result"
    }
   ],
   "source": [
    "var = ((inputs - mean) ** 2).mean(dim=dims, keepdim=True)\n",
    "epsilon = 1e-5\n",
    "std = (var + epsilon).sqrt()\n",
    "std"
   ]
  },
  {
   "cell_type": "code",
   "execution_count": 10,
   "id": "e5aed4dd",
   "metadata": {},
   "outputs": [
    {
     "data": {
      "text/plain": [
       "tensor([[[ 0.0000, -1.2238,  1.2238]],\n",
       "\n",
       "        [[ 1.4140, -0.7070, -0.7070]]])"
      ]
     },
     "execution_count": 10,
     "metadata": {},
     "output_type": "execute_result"
    }
   ],
   "source": [
    "y = (inputs - mean) / std\n",
    "y"
   ]
  },
  {
   "cell_type": "code",
   "execution_count": 11,
   "id": "6f96c4b0",
   "metadata": {},
   "outputs": [],
   "source": [
    "out = gamma * y + beta"
   ]
  },
  {
   "cell_type": "code",
   "execution_count": 12,
   "id": "7791b301",
   "metadata": {},
   "outputs": [
    {
     "data": {
      "text/plain": [
       "tensor([[[ 0.0000, -1.2238,  1.2238]],\n",
       "\n",
       "        [[ 1.4140, -0.7070, -0.7070]]], grad_fn=<AddBackward0>)"
      ]
     },
     "execution_count": 12,
     "metadata": {},
     "output_type": "execute_result"
    }
   ],
   "source": [
    "out"
   ]
  },
  {
   "cell_type": "markdown",
   "id": "d1938425",
   "metadata": {},
   "source": [
    "## Class"
   ]
  },
  {
   "cell_type": "code",
   "execution_count": 13,
   "id": "ff04bacc",
   "metadata": {},
   "outputs": [],
   "source": [
    "class LayerNormalization():\n",
    "    def __init__(self, parameters_shape, eps=1e-5):\n",
    "        self.parameters_shape=parameters_shape\n",
    "        self.eps=eps\n",
    "        self.gamma = nn.Parameter(torch.ones(parameters_shape))\n",
    "        self.beta =  nn.Parameter(torch.zeros(parameters_shape))\n",
    "\n",
    "    def forward(self, input):\n",
    "        dims = [-(i + 1) for i in range(len(self.parameters_shape))]\n",
    "        mean = inputs.mean(dim=dims, keepdim=True)\n",
    "        print(f\"Mean \\n ({mean.size()}): \\n {mean}\")\n",
    "        var = ((inputs - mean) ** 2).mean(dim=dims, keepdim=True)\n",
    "        std = (var + self.eps).sqrt()\n",
    "        print(f\"Standard Deviation \\n ({std.size()}): \\n {std}\")\n",
    "        y = (inputs - mean) / std\n",
    "        print(f\"y \\n ({y.size()}) = \\n {y}\")\n",
    "        out = self.gamma * y  + self.beta\n",
    "        print(f\"out \\n ({out.size()}) = \\n {out}\")\n",
    "        return out"
   ]
  },
  {
   "cell_type": "code",
   "execution_count": 14,
   "id": "35ea1e3d",
   "metadata": {},
   "outputs": [
    {
     "name": "stdout",
     "output_type": "stream",
     "text": [
      "input \n",
      " (torch.Size([5, 3, 8])) = \n",
      " tensor([[[-1.2165, -1.2031,  1.1671, -0.6439,  0.0029,  1.7320,  1.8665,\n",
      "          -0.9005],\n",
      "         [-2.0346, -1.1776,  0.9851,  0.8818,  0.0410, -1.3186, -2.0149,\n",
      "          -0.2498],\n",
      "         [ 1.5747, -0.1300, -0.4144,  1.1730,  0.0966, -0.8541, -1.0799,\n",
      "           0.1837]],\n",
      "\n",
      "        [[ 0.7905, -1.9945,  0.3453, -0.1782,  0.9445, -0.1497,  1.1303,\n",
      "           0.0070],\n",
      "         [ 0.2251, -0.5068,  0.4586, -0.6954,  2.4347, -0.1075, -0.5950,\n",
      "          -1.6831],\n",
      "         [ 0.7575,  0.2112,  1.6075, -0.2902,  0.3255,  0.4440, -0.7570,\n",
      "          -2.0835]],\n",
      "\n",
      "        [[-0.9890,  1.5902, -1.3114, -0.4992, -0.8564, -0.4182,  0.5670,\n",
      "          -0.2791],\n",
      "         [-1.3975,  0.1773, -0.5528, -0.3466,  0.8521, -1.2662,  0.5178,\n",
      "           0.7615],\n",
      "         [-0.9814, -0.0427, -0.4114, -0.5481,  0.1414, -0.8279,  0.7115,\n",
      "           0.4007]],\n",
      "\n",
      "        [[-0.1078, -0.0194,  0.2184, -0.6093,  0.2187,  0.4831,  0.7040,\n",
      "          -0.6380],\n",
      "         [-0.0390, -0.6313, -0.0945, -0.0973,  0.1988, -1.0212, -0.7125,\n",
      "          -0.5421],\n",
      "         [ 0.2706,  0.5349,  0.3767,  0.2109, -0.7746, -0.9778,  0.8274,\n",
      "          -0.9909]],\n",
      "\n",
      "        [[ 0.0433,  0.4325,  0.3044,  0.5482, -0.4748,  0.6278,  0.3453,\n",
      "           1.7326],\n",
      "         [ 1.0768, -0.0554,  0.7117,  1.5719, -0.2389,  0.0116,  0.4511,\n",
      "          -0.8808],\n",
      "         [ 0.5038,  1.1148,  0.3441, -0.2289,  0.2698, -0.6496,  0.6642,\n",
      "          -2.1515]]])\n"
     ]
    }
   ],
   "source": [
    "batch_size = 3\n",
    "sentence_length = 5\n",
    "embedding_dim = 8 \n",
    "inputs = torch.randn(sentence_length, batch_size, embedding_dim)\n",
    "\n",
    "print(f\"input \\n ({inputs.size()}) = \\n {inputs}\")"
   ]
  },
  {
   "cell_type": "code",
   "execution_count": 15,
   "id": "ab14d925",
   "metadata": {},
   "outputs": [],
   "source": [
    "layer_norm = LayerNormalization(inputs.size()[-1:])"
   ]
  },
  {
   "cell_type": "code",
   "execution_count": 16,
   "id": "c70c47f7",
   "metadata": {},
   "outputs": [
    {
     "name": "stdout",
     "output_type": "stream",
     "text": [
      "Mean \n",
      " (torch.Size([5, 3, 1])): \n",
      " tensor([[[ 0.1006],\n",
      "         [-0.6110],\n",
      "         [ 0.0687]],\n",
      "\n",
      "        [[ 0.1119],\n",
      "         [-0.0587],\n",
      "         [ 0.0269]],\n",
      "\n",
      "        [[-0.2745],\n",
      "         [-0.1568],\n",
      "         [-0.1947]],\n",
      "\n",
      "        [[ 0.0312],\n",
      "         [-0.3674],\n",
      "         [-0.0653]],\n",
      "\n",
      "        [[ 0.4449],\n",
      "         [ 0.3310],\n",
      "         [-0.0167]]])\n",
      "Standard Deviation \n",
      " (torch.Size([5, 3, 1])): \n",
      " tensor([[[1.2205],\n",
      "         [1.1264],\n",
      "         [0.8621]],\n",
      "\n",
      "        [[0.9251],\n",
      "         [1.1236],\n",
      "         [1.0306]],\n",
      "\n",
      "        [[0.8790],\n",
      "         [0.8209],\n",
      "         [0.5594]],\n",
      "\n",
      "        [[0.4482],\n",
      "         [0.3909],\n",
      "         [0.6832]],\n",
      "\n",
      "        [[0.5851],\n",
      "         [0.7331],\n",
      "         [0.9507]]])\n",
      "y \n",
      " (torch.Size([5, 3, 8])) = \n",
      " tensor([[[-1.0791, -1.0681,  0.8738, -0.6099, -0.0800,  1.3367,  1.4468,\n",
      "          -0.8202],\n",
      "         [-1.2638, -0.5030,  1.4169,  1.3252,  0.5787, -0.6282, -1.2464,\n",
      "           0.3206],\n",
      "         [ 1.7470, -0.2305, -0.5604,  1.2810,  0.0323, -1.0704, -1.3324,\n",
      "           0.1334]],\n",
      "\n",
      "        [[ 0.7336, -2.2770,  0.2523, -0.3136,  0.9000, -0.2827,  1.1009,\n",
      "          -0.1134],\n",
      "         [ 0.2525, -0.3989,  0.4603, -0.5666,  2.2191, -0.0435, -0.4773,\n",
      "          -1.4457],\n",
      "         [ 0.7089,  0.1788,  1.5336, -0.3077,  0.2897,  0.4048, -0.7605,\n",
      "          -2.0476]],\n",
      "\n",
      "        [[-0.8129,  2.1215, -1.1797, -0.2556, -0.6620, -0.1635,  0.9574,\n",
      "          -0.0052],\n",
      "         [-1.5115,  0.4070, -0.4823, -0.2313,  1.2290, -1.3514,  0.8218,\n",
      "           1.1186],\n",
      "         [-1.4062,  0.2718, -0.3874, -0.6316,  0.6009, -1.1318,  1.6200,\n",
      "           1.0644]],\n",
      "\n",
      "        [[-0.3102, -0.1129,  0.4177, -1.4291,  0.4183,  1.0082,  1.5011,\n",
      "          -1.4930],\n",
      "         [ 0.8400, -0.6751,  0.6980,  0.6909,  1.4482, -1.6725, -0.8828,\n",
      "          -0.4468],\n",
      "         [ 0.4918,  0.8786,  0.6470,  0.4044, -1.0381, -1.3355,  1.3067,\n",
      "          -1.3547]],\n",
      "\n",
      "        [[-0.6863, -0.0212, -0.2401,  0.1765, -1.5717,  0.3125, -0.1702,\n",
      "           2.2006],\n",
      "         [ 1.0172, -0.5271,  0.5193,  1.6926, -0.7773, -0.4357,  0.1639,\n",
      "          -1.6529],\n",
      "         [ 0.5475,  1.1901,  0.3795, -0.2232,  0.3013, -0.6658,  0.7162,\n",
      "          -2.2456]]])\n",
      "out \n",
      " (torch.Size([5, 3, 8])) = \n",
      " tensor([[[-1.0791, -1.0681,  0.8738, -0.6099, -0.0800,  1.3367,  1.4468,\n",
      "          -0.8202],\n",
      "         [-1.2638, -0.5030,  1.4169,  1.3252,  0.5787, -0.6282, -1.2464,\n",
      "           0.3206],\n",
      "         [ 1.7470, -0.2305, -0.5604,  1.2810,  0.0323, -1.0704, -1.3324,\n",
      "           0.1334]],\n",
      "\n",
      "        [[ 0.7336, -2.2770,  0.2523, -0.3136,  0.9000, -0.2827,  1.1009,\n",
      "          -0.1134],\n",
      "         [ 0.2525, -0.3989,  0.4603, -0.5666,  2.2191, -0.0435, -0.4773,\n",
      "          -1.4457],\n",
      "         [ 0.7089,  0.1788,  1.5336, -0.3077,  0.2897,  0.4048, -0.7605,\n",
      "          -2.0476]],\n",
      "\n",
      "        [[-0.8129,  2.1215, -1.1797, -0.2556, -0.6620, -0.1635,  0.9574,\n",
      "          -0.0052],\n",
      "         [-1.5115,  0.4070, -0.4823, -0.2313,  1.2290, -1.3514,  0.8218,\n",
      "           1.1186],\n",
      "         [-1.4062,  0.2718, -0.3874, -0.6316,  0.6009, -1.1318,  1.6200,\n",
      "           1.0644]],\n",
      "\n",
      "        [[-0.3102, -0.1129,  0.4177, -1.4291,  0.4183,  1.0082,  1.5011,\n",
      "          -1.4930],\n",
      "         [ 0.8400, -0.6751,  0.6980,  0.6909,  1.4482, -1.6725, -0.8828,\n",
      "          -0.4468],\n",
      "         [ 0.4918,  0.8786,  0.6470,  0.4044, -1.0381, -1.3355,  1.3067,\n",
      "          -1.3547]],\n",
      "\n",
      "        [[-0.6863, -0.0212, -0.2401,  0.1765, -1.5717,  0.3125, -0.1702,\n",
      "           2.2006],\n",
      "         [ 1.0172, -0.5271,  0.5193,  1.6926, -0.7773, -0.4357,  0.1639,\n",
      "          -1.6529],\n",
      "         [ 0.5475,  1.1901,  0.3795, -0.2232,  0.3013, -0.6658,  0.7162,\n",
      "          -2.2456]]], grad_fn=<AddBackward0>)\n"
     ]
    }
   ],
   "source": [
    "out = layer_norm.forward(inputs)"
   ]
  },
  {
   "cell_type": "code",
   "execution_count": 17,
   "id": "ff903380",
   "metadata": {},
   "outputs": [
    {
     "data": {
      "text/plain": [
       "(tensor(-2.2352e-08, grad_fn=<MeanBackward0>),\n",
       " tensor(1.0215, grad_fn=<StdBackward0>))"
      ]
     },
     "execution_count": 17,
     "metadata": {},
     "output_type": "execute_result"
    }
   ],
   "source": [
    "out[0].mean(), out[0].std()"
   ]
  }
 ],
 "metadata": {
  "kernelspec": {
   "display_name": "Python 3 (ipykernel)",
   "language": "python",
   "name": "python3"
  },
  "language_info": {
   "codemirror_mode": {
    "name": "ipython",
    "version": 3
   },
   "file_extension": ".py",
   "mimetype": "text/x-python",
   "name": "python",
   "nbconvert_exporter": "python",
   "pygments_lexer": "ipython3",
   "version": "3.11.3"
  }
 },
 "nbformat": 4,
 "nbformat_minor": 5
}
